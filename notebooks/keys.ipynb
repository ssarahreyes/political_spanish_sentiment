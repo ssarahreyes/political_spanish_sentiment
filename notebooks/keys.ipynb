{
 "cells": [
  {
   "cell_type": "code",
   "execution_count": 4,
   "metadata": {},
   "outputs": [],
   "source": [
    "CONSUMER_KEY = '5lXBIUCjAkOnbIvMlMJn7dlaS'\n",
    "CONSUMER_SECRET = 'qeRlxcGaTmbCkNk1bMtsSlU0tVCAFL928wH8cqPi8VJX4mqkLh'\n",
    "ACCESS_TOKEN = '787642138263683072-JnFO9ahRyIldLnmVCpfx4EP61Z33Jnr'\n",
    "ACCESS_TOKEN_SECRET = 'FPPnZwmV1f6VqqcYzzMtXtxO9TL0wxf2TwNxYMkhfFE6k'\n",
    "BEARER_TOKEN = 'AAAAAAAAAAAAAAAAAAAAALNMOAEAAAAAP%2BesQx5avGgJJ93HpEfmJ5Itg0g%3Df9o5pCoaONvJDna12ko5StopuNOPFZeJrVgd3ykj83Z38IzkiJ'"
   ]
  },
  {
   "cell_type": "code",
   "execution_count": null,
   "metadata": {},
   "outputs": [],
   "source": []
  }
 ],
 "metadata": {
  "kernelspec": {
   "display_name": "Python [conda env:ironhack_env]",
   "language": "python",
   "name": "conda-env-ironhack_env-py"
  },
  "language_info": {
   "codemirror_mode": {
    "name": "ipython",
    "version": 3
   },
   "file_extension": ".py",
   "mimetype": "text/x-python",
   "name": "python",
   "nbconvert_exporter": "python",
   "pygments_lexer": "ipython3",
   "version": "3.8.5"
  }
 },
 "nbformat": 4,
 "nbformat_minor": 4
}
